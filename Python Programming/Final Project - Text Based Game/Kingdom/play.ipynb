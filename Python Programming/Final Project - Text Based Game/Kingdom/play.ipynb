{
 "cells": [
  {
   "cell_type": "code",
   "execution_count": 1,
   "id": "82aea65a",
   "metadata": {},
   "outputs": [],
   "source": [
    "from game_setting import *\n",
    "\n",
    "def main():\n",
    "    game = Game_Kingdom()\n",
    "    game.game_setting()\n"
   ]
  },
  {
   "cell_type": "code",
   "execution_count": 2,
   "id": "07346a32",
   "metadata": {},
   "outputs": [
    {
     "name": "stdout",
     "output_type": "stream",
     "text": [
      "£££ Welcome to Casino, I am today's dealer Genesis £££\n",
      "This time, you will earn 7 times the amount you wagered\n",
      "How much you want to bet?: [Leave: -1] | You have £33 3\n",
      "Please pick your lucky number [1, 2, 3, 4, 5] 3\n",
      "HAHAHAHA, you lost £3! | Current money: £30\n",
      "How much you want to bet?: [Leave: -1] | You have £30 5\n",
      "Please pick your lucky number [1, 2, 3, 4, 5] 3\n",
      "£££££££££££££££££££££££££££££££££££££££££££££££££££££££\n",
      "Jackpot!, You just got £35 | Current money: £65\n",
      "£££££££££££££££££££££££££££££££££££££££££££££££££££££££\n",
      "How much you want to bet?: [Leave: -1] | You have £65 -1\n",
      "HAHAHAHA, Good bye!\n",
      "\n",
      "< Chosun Dynast Kingdom, save your princess! >\n",
      "0. 정연 details\n",
      "1. 정연 Backpack\n",
      "2. Teleport to Sena's room\n",
      "3. Portal (in Sena's room)\n",
      "4. Shopping (in Sena's room)\n",
      "5. Selling (in Sena's room)\n",
      "6. Deposit to Locker (in Sena's room)\n",
      "7. Withdrawal from Locker (in Sena's room)\n",
      "8. 정연 Locker (in Sena's room)\n",
      "9. Teleport to Casino (Entrance fee: £2)\n",
      "10. Give up this game\n",
      "Select a number, what you want to do?: 0\n",
      "정연: HP(266/5000) | Striking power(240)\n",
      "Current money(£65) | Weight(10.5/40.0)\n",
      "Select a number, what you want to do?: 1\n",
      "Your backpack: ['Broken Helmet', 'Training Key1', 'Golden Axe', 'Damaged Macbook Air M2']\n",
      "Weight: 10.5/40.0\n",
      "Select a number, what you want to do?: 10\n",
      "Goodbye!\n"
     ]
    },
    {
     "data": {
      "text/html": [
       "<img src=\"https://cdn.pixabay.com/photo/2018/03/25/10/02/farewell-3258939_1280.jpg\" width=\"400\" height=\"300\"/>"
      ],
      "text/plain": [
       "<IPython.core.display.Image object>"
      ]
     },
     "metadata": {},
     "output_type": "display_data"
    }
   ],
   "source": [
    "if __name__ == \"__main__\":\n",
    "    main()"
   ]
  },
  {
   "cell_type": "code",
   "execution_count": null,
   "id": "3774e40e",
   "metadata": {},
   "outputs": [],
   "source": []
  }
 ],
 "metadata": {
  "kernelspec": {
   "display_name": "Python 3 (ipykernel)",
   "language": "python",
   "name": "python3"
  },
  "language_info": {
   "codemirror_mode": {
    "name": "ipython",
    "version": 3
   },
   "file_extension": ".py",
   "mimetype": "text/x-python",
   "name": "python",
   "nbconvert_exporter": "python",
   "pygments_lexer": "ipython3",
   "version": "3.9.13"
  }
 },
 "nbformat": 4,
 "nbformat_minor": 5
}
